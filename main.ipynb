{
 "cells": [
  {
   "cell_type": "code",
   "execution_count": 63,
   "metadata": {},
   "outputs": [],
   "source": [
    "from pathlib import Path\n",
    "import csv"
   ]
  },
  {
   "cell_type": "code",
   "execution_count": 87,
   "metadata": {},
   "outputs": [],
   "source": [
    "filep = Path('budget/budget_data.csv')"
   ]
  },
  {
   "cell_type": "code",
   "execution_count": 93,
   "metadata": {},
   "outputs": [
    {
     "name": "stdout",
     "output_type": "stream",
     "text": [
      "There are 86 total months.\n",
      "The net profit and losses is 38382578.\n",
      "The average profit and losses is -2315.12\n",
      "The greatest increase in profits is $1926159 on Feb-2012.\n",
      "The greatest decrease in profits is $-2196167 on Sep-2013.\n"
     ]
    }
   ],
   "source": [
    "# Load the variable to hold dates\n",
    "date = []\n",
    "# Load the variable to hold Profit/Losses\n",
    "profit_losses = []\n",
    "# Load variable to hold monthly profit change\n",
    "monthly_profit_change = []\n",
    "# Load line_num variable\n",
    "line_num = 0\n",
    "# Open the input path as a file object\n",
    "with open(filep, 'r') as csvfile:\n",
    "    csvreader = csv.reader(csvfile, delimiter=',')\n",
    "    # Print the datatype of the file object\n",
    "    #print(type(csvfile))\n",
    "    header = next(csvreader)\n",
    "    line_num += 1\n",
    "    # Print the header\n",
    "    #print(f\"{header} <---- HEADER\")\n",
    "    # Read each row of data after the header\n",
    "    for row in csvreader:\n",
    "        # Print the row\n",
    "        #print(row)\n",
    "    # Set date variable equal to the value in the 1st column of each row\n",
    "        dates = row[0]\n",
    "        # Append the row salary value to the list of salaries\n",
    "        date.append(dates)\n",
    "    # Set profit_losses variable equal to the value in the 2nd column of each row\n",
    "        profitloss = int(row[1])\n",
    "        profit_losses.append(profitloss)\n",
    "#Load the metric variables\n",
    "    \n",
    "    net_total = 0\n",
    "    count_net_total = 0\n",
    "    average_profit_losses = 0\n",
    "    greatest_increase_profits = 0\n",
    "    # greatest_decrease_profits = 0\n",
    "    # Counting  total months\n",
    "total_months = len(date)\n",
    "print(f'There are {total_months} total months.')\n",
    "# Calculating net_total_profit_losses\n",
    "for num in profit_losses:\n",
    "    net_total += num\n",
    "    count_net_total += 1\n",
    "print(f'The net profit and losses is {net_total}.')\n",
    "# Calculate average\n",
    "# Iterate through the profits in order to get the monthly change in profits\n",
    "for i in range(len(profit_losses)-1):\n",
    "    # Take the difference between two months and append to monthly profit change\n",
    "    monthly_profit_change.append(profit_losses[i+1]-profit_losses[i])\n",
    "average_profit_losses = round(sum(monthly_profit_change)/len(monthly_profit_change),2)\n",
    "print(f'The average profit and losses is {average_profit_losses}')\n",
    "# The greatest increase in profits (date and amount) over the entire period.\n",
    "max_increase_value = max(profit_losses)\n",
    "max_month_index = profit_losses.index(max(profit_losses))\n",
    "prev_month_amount = profit_losses[max_month_index - 1]\n",
    "greatest_increase_profits = max_increase_value - prev_month_amount\n",
    "#month\n",
    "greatest_increase_month = date[max_month_index]\n",
    "print(f'The greatest increase in profits is ${greatest_increase_profits} on {greatest_increase_month}.')\n",
    "min_increase_value = min(profit_losses)\n",
    "min_month_index = profit_losses.index(min(profit_losses))\n",
    "prev_month_min_amount = profit_losses[min_month_index - 1]\n",
    "greatest_decrease_profits = min_increase_value - prev_month_min_amount\n",
    "#month\n",
    "greatest_decrease_month = date[min_month_index]\n",
    "print(f'The greatest decrease in profits is ${greatest_decrease_profits} on {greatest_decrease_month}.')"
   ]
  },
  {
   "cell_type": "code",
   "execution_count": null,
   "metadata": {},
   "outputs": [],
   "source": []
  },
  {
   "cell_type": "code",
   "execution_count": null,
   "metadata": {},
   "outputs": [],
   "source": []
  },
  {
   "cell_type": "code",
   "execution_count": null,
   "metadata": {},
   "outputs": [],
   "source": []
  },
  {
   "cell_type": "code",
   "execution_count": null,
   "metadata": {},
   "outputs": [],
   "source": []
  }
 ],
 "metadata": {
  "kernelspec": {
   "display_name": "Python 3",
   "language": "python",
   "name": "python3"
  },
  "language_info": {
   "codemirror_mode": {
    "name": "ipython",
    "version": 3
   },
   "file_extension": ".py",
   "mimetype": "text/x-python",
   "name": "python",
   "nbconvert_exporter": "python",
   "pygments_lexer": "ipython3",
   "version": "3.8.5"
  }
 },
 "nbformat": 4,
 "nbformat_minor": 4
}
